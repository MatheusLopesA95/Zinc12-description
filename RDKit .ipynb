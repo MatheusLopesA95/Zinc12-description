{
 "cells": [
  {
   "cell_type": "code",
   "execution_count": null,
   "id": "8c160a5e",
   "metadata": {},
   "outputs": [],
   "source": []
  },
  {
   "cell_type": "code",
   "execution_count": 2,
   "id": "0ebb8862",
   "metadata": {},
   "outputs": [
    {
     "name": "stdout",
     "output_type": "stream",
     "text": [
      "Collecting rdkit\n",
      "  Downloading rdkit-2022.9.1-cp39-cp39-manylinux_2_17_x86_64.manylinux2014_x86_64.whl (29.7 MB)\n",
      "\u001b[K     |████████████████████████████████| 29.7 MB 12.3 MB/s eta 0:00:01     |█████████████                   | 12.0 MB 10.5 MB/s eta 0:00:02\n",
      "\u001b[?25hRequirement already satisfied: Pillow in /home/matheus/anaconda3/lib/python3.9/site-packages (from rdkit) (9.0.1)\n",
      "Requirement already satisfied: numpy in /home/matheus/anaconda3/lib/python3.9/site-packages (from rdkit) (1.21.5)\n",
      "Installing collected packages: rdkit\n",
      "Successfully installed rdkit-2022.9.1\n",
      "Note: you may need to restart the kernel to use updated packages.\n"
     ]
    }
   ],
   "source": [
    "pip install rdkit"
   ]
  },
  {
   "cell_type": "code",
   "execution_count": 8,
   "id": "f5831aff",
   "metadata": {},
   "outputs": [
    {
     "name": "stdout",
     "output_type": "stream",
     "text": [
      "Requirement already satisfied: pandas in /home/matheus/anaconda3/lib/python3.9/site-packages (1.4.2)\n",
      "Requirement already satisfied: python-dateutil>=2.8.1 in /home/matheus/anaconda3/lib/python3.9/site-packages (from pandas) (2.8.2)\n",
      "Requirement already satisfied: pytz>=2020.1 in /home/matheus/anaconda3/lib/python3.9/site-packages (from pandas) (2021.3)\n",
      "Requirement already satisfied: numpy>=1.18.5 in /home/matheus/anaconda3/lib/python3.9/site-packages (from pandas) (1.21.5)\n",
      "Requirement already satisfied: six>=1.5 in /home/matheus/anaconda3/lib/python3.9/site-packages (from python-dateutil>=2.8.1->pandas) (1.16.0)\n",
      "Note: you may need to restart the kernel to use updated packages.\n"
     ]
    }
   ],
   "source": [
    "pip install pandas\n"
   ]
  },
  {
   "cell_type": "code",
   "execution_count": 2,
   "id": "cbbae508",
   "metadata": {},
   "outputs": [],
   "source": [
    "import pandas as pd\n",
    "import numpy as np\n",
    "from rdkit import Chem"
   ]
  },
  {
   "cell_type": "code",
   "execution_count": 3,
   "id": "f23d87b7",
   "metadata": {},
   "outputs": [
    {
     "data": {
      "text/html": [
       "<div>\n",
       "<style scoped>\n",
       "    .dataframe tbody tr th:only-of-type {\n",
       "        vertical-align: middle;\n",
       "    }\n",
       "\n",
       "    .dataframe tbody tr th {\n",
       "        vertical-align: top;\n",
       "    }\n",
       "\n",
       "    .dataframe thead th {\n",
       "        text-align: right;\n",
       "    }\n",
       "</style>\n",
       "<table border=\"1\" class=\"dataframe\">\n",
       "  <thead>\n",
       "    <tr style=\"text-align: right;\">\n",
       "      <th></th>\n",
       "      <th>ZINC_ID</th>\n",
       "      <th>MWT</th>\n",
       "      <th>LogP</th>\n",
       "      <th>Desolv_apolar</th>\n",
       "      <th>Desolv_polar</th>\n",
       "      <th>HBD</th>\n",
       "      <th>HBA</th>\n",
       "      <th>tPSA</th>\n",
       "      <th>Charge</th>\n",
       "      <th>NRB</th>\n",
       "      <th>SMILES</th>\n",
       "    </tr>\n",
       "  </thead>\n",
       "  <tbody>\n",
       "    <tr>\n",
       "      <th>0</th>\n",
       "      <td>ZINC00000012</td>\n",
       "      <td>289.356</td>\n",
       "      <td>1.28</td>\n",
       "      <td>4.89</td>\n",
       "      <td>-24.55</td>\n",
       "      <td>2</td>\n",
       "      <td>4</td>\n",
       "      <td>66</td>\n",
       "      <td>0</td>\n",
       "      <td>5</td>\n",
       "      <td>c1ccc(cc1)C(c2ccccc2)[S@](=O)CC(=O)NO</td>\n",
       "    </tr>\n",
       "    <tr>\n",
       "      <th>1</th>\n",
       "      <td>ZINC00000017</td>\n",
       "      <td>281.337</td>\n",
       "      <td>1.33</td>\n",
       "      <td>3.07</td>\n",
       "      <td>-19.20</td>\n",
       "      <td>2</td>\n",
       "      <td>6</td>\n",
       "      <td>87</td>\n",
       "      <td>0</td>\n",
       "      <td>4</td>\n",
       "      <td>CCC[S@](=O)c1ccc2c(c1)[nH]/c(=N/C(=O)OC)/[nH]2</td>\n",
       "    </tr>\n",
       "    <tr>\n",
       "      <th>2</th>\n",
       "      <td>ZINC00000030</td>\n",
       "      <td>297.422</td>\n",
       "      <td>2.94</td>\n",
       "      <td>0.89</td>\n",
       "      <td>-37.97</td>\n",
       "      <td>3</td>\n",
       "      <td>3</td>\n",
       "      <td>47</td>\n",
       "      <td>1</td>\n",
       "      <td>6</td>\n",
       "      <td>C[C@@H](CC(c1ccccc1)(c2ccccc2)C(=O)N)[NH+](C)C</td>\n",
       "    </tr>\n",
       "    <tr>\n",
       "      <th>3</th>\n",
       "      <td>ZINC00000031</td>\n",
       "      <td>303.386</td>\n",
       "      <td>0.86</td>\n",
       "      <td>1.34</td>\n",
       "      <td>-47.14</td>\n",
       "      <td>2</td>\n",
       "      <td>6</td>\n",
       "      <td>60</td>\n",
       "      <td>1</td>\n",
       "      <td>4</td>\n",
       "      <td>Cc1c(c(=O)n(n1C)c2ccccc2)NC(=O)[C@H](C)[NH+](C)C</td>\n",
       "    </tr>\n",
       "    <tr>\n",
       "      <th>4</th>\n",
       "      <td>ZINC00000050</td>\n",
       "      <td>254.357</td>\n",
       "      <td>2.52</td>\n",
       "      <td>-0.20</td>\n",
       "      <td>-40.49</td>\n",
       "      <td>1</td>\n",
       "      <td>3</td>\n",
       "      <td>12</td>\n",
       "      <td>1</td>\n",
       "      <td>0</td>\n",
       "      <td>C[NH+]1CCN2c3ccccc3Cn4cccc4[C@@H]2C1</td>\n",
       "    </tr>\n",
       "    <tr>\n",
       "      <th>...</th>\n",
       "      <td>...</td>\n",
       "      <td>...</td>\n",
       "      <td>...</td>\n",
       "      <td>...</td>\n",
       "      <td>...</td>\n",
       "      <td>...</td>\n",
       "      <td>...</td>\n",
       "      <td>...</td>\n",
       "      <td>...</td>\n",
       "      <td>...</td>\n",
       "      <td>...</td>\n",
       "    </tr>\n",
       "    <tr>\n",
       "      <th>1048570</th>\n",
       "      <td>ZINC20547684</td>\n",
       "      <td>346.383</td>\n",
       "      <td>1.39</td>\n",
       "      <td>4.74</td>\n",
       "      <td>-18.39</td>\n",
       "      <td>1</td>\n",
       "      <td>7</td>\n",
       "      <td>81</td>\n",
       "      <td>0</td>\n",
       "      <td>6</td>\n",
       "      <td>C[C@H](C(=O)NCCN1CCOCC1)Oc2ccc3ccc(=O)oc3c2</td>\n",
       "    </tr>\n",
       "    <tr>\n",
       "      <th>1048571</th>\n",
       "      <td>ZINC20547686</td>\n",
       "      <td>346.383</td>\n",
       "      <td>1.39</td>\n",
       "      <td>4.74</td>\n",
       "      <td>-18.36</td>\n",
       "      <td>1</td>\n",
       "      <td>7</td>\n",
       "      <td>81</td>\n",
       "      <td>0</td>\n",
       "      <td>6</td>\n",
       "      <td>C[C@@H](C(=O)NCCN1CCOCC1)Oc2ccc3ccc(=O)oc3c2</td>\n",
       "    </tr>\n",
       "    <tr>\n",
       "      <th>1048572</th>\n",
       "      <td>ZINC20547724</td>\n",
       "      <td>339.375</td>\n",
       "      <td>2.49</td>\n",
       "      <td>8.89</td>\n",
       "      <td>-68.90</td>\n",
       "      <td>1</td>\n",
       "      <td>7</td>\n",
       "      <td>100</td>\n",
       "      <td>-1</td>\n",
       "      <td>7</td>\n",
       "      <td>CCCn1c2c(cc3ccccc3n2)c(n1)NC(=O)CCCC(=O)[O-]</td>\n",
       "    </tr>\n",
       "    <tr>\n",
       "      <th>1048573</th>\n",
       "      <td>ZINC20547733</td>\n",
       "      <td>305.353</td>\n",
       "      <td>0.91</td>\n",
       "      <td>2.89</td>\n",
       "      <td>-15.14</td>\n",
       "      <td>2</td>\n",
       "      <td>5</td>\n",
       "      <td>57</td>\n",
       "      <td>0</td>\n",
       "      <td>5</td>\n",
       "      <td>c1cc2c(cc1F)cc([nH]2)C(=O)NCCCN3CCOCC3</td>\n",
       "    </tr>\n",
       "    <tr>\n",
       "      <th>1048574</th>\n",
       "      <td>ZINC20547779</td>\n",
       "      <td>262.760</td>\n",
       "      <td>2.61</td>\n",
       "      <td>7.31</td>\n",
       "      <td>-47.52</td>\n",
       "      <td>3</td>\n",
       "      <td>2</td>\n",
       "      <td>37</td>\n",
       "      <td>1</td>\n",
       "      <td>3</td>\n",
       "      <td>Cc1cc(ccc1Oc2ccc(cc2)[C@@H](C)[NH3+])Cl</td>\n",
       "    </tr>\n",
       "  </tbody>\n",
       "</table>\n",
       "<p>1048575 rows × 11 columns</p>\n",
       "</div>"
      ],
      "text/plain": [
       "              ZINC_ID      MWT  LogP  Desolv_apolar  Desolv_polar  HBD  HBA  \\\n",
       "0        ZINC00000012  289.356  1.28           4.89        -24.55    2    4   \n",
       "1        ZINC00000017  281.337  1.33           3.07        -19.20    2    6   \n",
       "2        ZINC00000030  297.422  2.94           0.89        -37.97    3    3   \n",
       "3        ZINC00000031  303.386  0.86           1.34        -47.14    2    6   \n",
       "4        ZINC00000050  254.357  2.52          -0.20        -40.49    1    3   \n",
       "...               ...      ...   ...            ...           ...  ...  ...   \n",
       "1048570  ZINC20547684  346.383  1.39           4.74        -18.39    1    7   \n",
       "1048571  ZINC20547686  346.383  1.39           4.74        -18.36    1    7   \n",
       "1048572  ZINC20547724  339.375  2.49           8.89        -68.90    1    7   \n",
       "1048573  ZINC20547733  305.353  0.91           2.89        -15.14    2    5   \n",
       "1048574  ZINC20547779  262.760  2.61           7.31        -47.52    3    2   \n",
       "\n",
       "         tPSA  Charge  NRB                                            SMILES  \n",
       "0          66       0    5             c1ccc(cc1)C(c2ccccc2)[S@](=O)CC(=O)NO  \n",
       "1          87       0    4    CCC[S@](=O)c1ccc2c(c1)[nH]/c(=N/C(=O)OC)/[nH]2  \n",
       "2          47       1    6    C[C@@H](CC(c1ccccc1)(c2ccccc2)C(=O)N)[NH+](C)C  \n",
       "3          60       1    4  Cc1c(c(=O)n(n1C)c2ccccc2)NC(=O)[C@H](C)[NH+](C)C  \n",
       "4          12       1    0              C[NH+]1CCN2c3ccccc3Cn4cccc4[C@@H]2C1  \n",
       "...       ...     ...  ...                                               ...  \n",
       "1048570    81       0    6       C[C@H](C(=O)NCCN1CCOCC1)Oc2ccc3ccc(=O)oc3c2  \n",
       "1048571    81       0    6      C[C@@H](C(=O)NCCN1CCOCC1)Oc2ccc3ccc(=O)oc3c2  \n",
       "1048572   100      -1    7      CCCn1c2c(cc3ccccc3n2)c(n1)NC(=O)CCCC(=O)[O-]  \n",
       "1048573    57       0    5            c1cc2c(cc1F)cc([nH]2)C(=O)NCCCN3CCOCC3  \n",
       "1048574    37       1    3           Cc1cc(ccc1Oc2ccc(cc2)[C@@H](C)[NH3+])Cl  \n",
       "\n",
       "[1048575 rows x 11 columns]"
      ]
     },
     "execution_count": 3,
     "metadata": {},
     "output_type": "execute_result"
    }
   ],
   "source": [
    "data=pd.read_csv('21prop.csv', sep=';')\n",
    "data"
   ]
  },
  {
   "cell_type": "code",
   "execution_count": 17,
   "id": "0f6601ff",
   "metadata": {},
   "outputs": [
    {
     "data": {
      "text/plain": [
       "<bound method Series.fillna of 0                     c1ccc(cc1)C(c2ccccc2)[S@](=O)CC(=O)NO\n",
       "1            CCC[S@](=O)c1ccc2c(c1)[nH]/c(=N/C(=O)OC)/[nH]2\n",
       "2            C[C@@H](CC(c1ccccc1)(c2ccccc2)C(=O)N)[NH+](C)C\n",
       "3          Cc1c(c(=O)n(n1C)c2ccccc2)NC(=O)[C@H](C)[NH+](C)C\n",
       "4                      C[NH+]1CCN2c3ccccc3Cn4cccc4[C@@H]2C1\n",
       "                                 ...                       \n",
       "1048570         C[C@H](C(=O)NCCN1CCOCC1)Oc2ccc3ccc(=O)oc3c2\n",
       "1048571        C[C@@H](C(=O)NCCN1CCOCC1)Oc2ccc3ccc(=O)oc3c2\n",
       "1048572        CCCn1c2c(cc3ccccc3n2)c(n1)NC(=O)CCCC(=O)[O-]\n",
       "1048573              c1cc2c(cc1F)cc([nH]2)C(=O)NCCCN3CCOCC3\n",
       "1048574             Cc1cc(ccc1Oc2ccc(cc2)[C@@H](C)[NH3+])Cl\n",
       "Name: SMILES, Length: 1048575, dtype: object>"
      ]
     },
     "execution_count": 17,
     "metadata": {},
     "output_type": "execute_result"
    }
   ],
   "source": [
    "data.SMILES.fillna"
   ]
  },
  {
   "cell_type": "code",
   "execution_count": 21,
   "id": "1a190e58",
   "metadata": {},
   "outputs": [
    {
     "name": "stderr",
     "output_type": "stream",
     "text": [
      "[13:05:22] Explicit valence for atom # 10 N, 4, is greater than permitted\n"
     ]
    },
    {
     "ename": "AttributeError",
     "evalue": "'NoneType' object has no attribute 'GetNumAtoms'",
     "output_type": "error",
     "traceback": [
      "\u001b[0;31m---------------------------------------------------------------------------\u001b[0m",
      "\u001b[0;31mAttributeError\u001b[0m                            Traceback (most recent call last)",
      "\u001b[1;32m/home/matheus/Documents/GitHub/Zinc12-description/RDKit .ipynb Cell 7\u001b[0m in \u001b[0;36m<cell line: 3>\u001b[0;34m()\u001b[0m\n\u001b[1;32m      <a href='vscode-notebook-cell:/home/matheus/Documents/GitHub/Zinc12-description/RDKit%20.ipynb#W5sZmlsZQ%3D%3D?line=1'>2</a>\u001b[0m NumAtoms \u001b[39m=\u001b[39m []\n\u001b[1;32m      <a href='vscode-notebook-cell:/home/matheus/Documents/GitHub/Zinc12-description/RDKit%20.ipynb#W5sZmlsZQ%3D%3D?line=2'>3</a>\u001b[0m \u001b[39mwhile\u001b[39;00m x \u001b[39m<\u001b[39m\u001b[39m=\u001b[39m \u001b[39mlen\u001b[39m(data\u001b[39m.\u001b[39mSMILES):\n\u001b[0;32m----> <a href='vscode-notebook-cell:/home/matheus/Documents/GitHub/Zinc12-description/RDKit%20.ipynb#W5sZmlsZQ%3D%3D?line=3'>4</a>\u001b[0m     NumAtoms\u001b[39m.\u001b[39mappend(Chem\u001b[39m.\u001b[39;49mMolFromSmiles(data\u001b[39m.\u001b[39;49mSMILES[x])\u001b[39m.\u001b[39;49mGetNumAtoms())\n\u001b[1;32m      <a href='vscode-notebook-cell:/home/matheus/Documents/GitHub/Zinc12-description/RDKit%20.ipynb#W5sZmlsZQ%3D%3D?line=4'>5</a>\u001b[0m     x\u001b[39m=\u001b[39mx\u001b[39m+\u001b[39m\u001b[39m1\u001b[39m\n\u001b[1;32m      <a href='vscode-notebook-cell:/home/matheus/Documents/GitHub/Zinc12-description/RDKit%20.ipynb#W5sZmlsZQ%3D%3D?line=5'>6</a>\u001b[0m \u001b[39mprint\u001b[39m(x)\n",
      "\u001b[0;31mAttributeError\u001b[0m: 'NoneType' object has no attribute 'GetNumAtoms'"
     ]
    }
   ],
   "source": [
    "x=0\n",
    "NumAtoms = []\n",
    "while x <= len(data.SMILES):\n",
    "    NumAtoms.append(Chem.MolFromSmiles(data.SMILES[x]).GetNumAtoms())\n",
    "    x=x+1\n",
    "print(x)\n",
    "print(NumAtoms)"
   ]
  },
  {
   "cell_type": "code",
   "execution_count": 8,
   "id": "61e4d5dc",
   "metadata": {},
   "outputs": [
    {
     "name": "stdout",
     "output_type": "stream",
     "text": [
      "20\n"
     ]
    }
   ],
   "source": [
    " print(pos0.GetNumAtoms())"
   ]
  },
  {
   "cell_type": "code",
   "execution_count": 10,
   "id": "f737456f",
   "metadata": {},
   "outputs": [
    {
     "name": "stdout",
     "output_type": "stream",
     "text": [
      "2\n"
     ]
    }
   ],
   "source": [
    "print(len(Chem.GetSymmSSSR(pos0)))"
   ]
  },
  {
   "cell_type": "code",
   "execution_count": null,
   "id": "5c9902ad",
   "metadata": {},
   "outputs": [],
   "source": []
  },
  {
   "cell_type": "code",
   "execution_count": null,
   "id": "cc11e969",
   "metadata": {},
   "outputs": [],
   "source": []
  },
  {
   "cell_type": "code",
   "execution_count": null,
   "id": "8e3a60cb",
   "metadata": {},
   "outputs": [],
   "source": []
  }
 ],
 "metadata": {
  "kernelspec": {
   "display_name": "Python 3.9.12 ('base')",
   "language": "python",
   "name": "python3"
  },
  "language_info": {
   "codemirror_mode": {
    "name": "ipython",
    "version": 3
   },
   "file_extension": ".py",
   "mimetype": "text/x-python",
   "name": "python",
   "nbconvert_exporter": "python",
   "pygments_lexer": "ipython3",
   "version": "3.9.12"
  },
  "vscode": {
   "interpreter": {
    "hash": "ad1f547ca6bde2efe7e9b59d2fcba9fd38de7525bea4d95dd49cfbf16810227f"
   }
  }
 },
 "nbformat": 4,
 "nbformat_minor": 5
}
